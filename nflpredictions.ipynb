{
 "cells": [
  {
   "cell_type": "markdown",
   "id": "0fb4c643",
   "metadata": {},
   "source": [
    "# NFL Game Winner Prediction - Brandon He\n",
    "\n",
    "This notebook implements a machine learning pipeline to **predict the winners of NFL games** from Week 5 on of the 2025 NFL season, using team statistics and advanced metrics. \n",
    "\n",
    "A **Random Forest Classifier** was used, trained on past games to generate predictions for upcoming games. The model leverages features such as:\n",
    "\n",
    "- Points per game scored\n",
    "- Points per game allowed\n",
    "- Turnover differential\n",
    "- 3rd down conversion % (offense & defense)\n",
    "- Offensive EPA/play\n",
    "- Defensive EPA/play\n",
    "- Home-field advantage\n",
    "\n",
    "The pipeline is designed to run **week-by-week**, updating rolling averages for each team and generating matchup-based features to predict the next week's outcomes. It also tracks **actual results and prediction accuracy** over the season."
   ]
  },
  {
   "cell_type": "code",
   "execution_count": 2,
   "id": "0307b025",
   "metadata": {},
   "outputs": [],
   "source": [
    "# Import libraries\n",
    "import pandas as pd\n",
    "import nflreadpy as nfl\n",
    "import nfl_data_py as nfl_data\n",
    "from sklearn.model_selection import train_test_split\n",
    "from sklearn.ensemble import RandomForestClassifier\n",
    "import matplotlib.pyplot as plt"
   ]
  },
  {
   "cell_type": "code",
   "execution_count": null,
   "id": "e8c52f03",
   "metadata": {},
   "outputs": [],
   "source": [
    "# Load NFL data fo2 2025 season\n",
    "season = 2025\n",
    "schedule = nfl.load_schedules(seasons=[season])\n",
    "schedule = schedule.to_pandas()\n",
    "\n",
    "# Select only regular season games, create target variable\n",
    "games = schedule[schedule['game_type'] <= 'REG'].copy()\n",
    "games[\"winner\"] = (games[\"home_score\"] > games[\"away_score\"]).astype(int) # 1 if home team wins, 0 if away team wins\n",
    "team_stats = nfl.load_team_stats([season])\n",
    "team_stats = team_stats.to_pandas()"
   ]
  },
  {
   "cell_type": "code",
   "execution_count": null,
   "id": "2660fe43",
   "metadata": {},
   "outputs": [],
   "source": [
    "# Add column for EPA per play\n",
    "team_stats[\"pass_plays\"] = team_stats[\"attempts\"] + team_stats[\"sacks_suffered\"]\n",
    "team_stats[\"rush_plays\"] = team_stats[\"carries\"]\n",
    "team_stats[\"total_plays\"] = team_stats[\"pass_plays\"] + team_stats[\"rush_plays\"]\n",
    "team_stats[\"off_epa_per_play\"] = (\n",
    "    (team_stats[\"passing_epa\"] * team_stats[\"pass_plays\"]) +\n",
    "    (team_stats[\"rushing_epa\"] * team_stats[\"rush_plays\"])\n",
    ") / team_stats[\"total_plays\"]"
   ]
  },
  {
   "cell_type": "code",
   "execution_count": null,
   "id": "4f15814f",
   "metadata": {},
   "outputs": [],
   "source": [
    "# Add columns points for and against to team_stats\n",
    "home = schedule[[\"season\", \"week\", \"home_team\", \"away_team\", \"home_score\", \"away_score\"]].copy()\n",
    "home[\"team\"] = home[\"home_team\"]\n",
    "home[\"points_for\"] = home[\"home_score\"]\n",
    "home[\"points_against\"] = home[\"away_score\"]\n",
    "\n",
    "away = schedule[[\"season\", \"week\", \"home_team\", \"away_team\", \"home_score\", \"away_score\"]].copy()\n",
    "away[\"team\"] = away[\"away_team\"]\n",
    "away[\"points_for\"] = away[\"away_score\"]\n",
    "away[\"points_against\"] = away[\"home_score\"]\n",
    "\n",
    "schedule_long = pd.concat([home, away], ignore_index=True)\n",
    "\n",
    "# Merge into team_stats\n",
    "team_stats = team_stats.merge(\n",
    "    schedule_long[[\"season\", \"week\", \"team\", \"points_for\", \"points_against\"]],\n",
    "    on=[\"season\", \"week\", \"team\"],\n",
    "    how=\"left\"\n",
    ")"
   ]
  },
  {
   "cell_type": "code",
   "execution_count": 25,
   "id": "85cb15f7",
   "metadata": {},
   "outputs": [],
   "source": [
    "# Add column for turnover differential\n",
    "# Offensive giveaways\n",
    "team_stats[\"giveaways\"] = (\n",
    "    team_stats[\"passing_interceptions\"] + \n",
    "    team_stats[\"rushing_fumbles_lost\"] + \n",
    "    team_stats[\"receiving_fumbles_lost\"] + \n",
    "    team_stats[\"sack_fumbles_lost\"]\n",
    ")\n",
    "\n",
    "# Defensive takeaways\n",
    "team_stats[\"takeaways\"] = (\n",
    "    team_stats[\"def_interceptions\"] + \n",
    "    team_stats[\"fumble_recovery_opp\"]   # opp fumbles recovered by your team\n",
    ")\n",
    "\n",
    "# Turnover differential\n",
    "team_stats[\"turnover_diff\"] = team_stats[\"takeaways\"] - team_stats[\"giveaways\"]"
   ]
  },
  {
   "cell_type": "code",
   "execution_count": null,
   "id": "a5601d91",
   "metadata": {},
   "outputs": [
    {
     "data": {
      "text/html": [
       "<div>\n",
       "<style scoped>\n",
       "    .dataframe tbody tr th:only-of-type {\n",
       "        vertical-align: middle;\n",
       "    }\n",
       "\n",
       "    .dataframe tbody tr th {\n",
       "        vertical-align: top;\n",
       "    }\n",
       "\n",
       "    .dataframe thead th {\n",
       "        text-align: right;\n",
       "    }\n",
       "</style>\n",
       "<table border=\"1\" class=\"dataframe\">\n",
       "  <thead>\n",
       "    <tr style=\"text-align: right;\">\n",
       "      <th></th>\n",
       "      <th>points_for</th>\n",
       "      <th>epa_per_play</th>\n",
       "    </tr>\n",
       "  </thead>\n",
       "  <tbody>\n",
       "    <tr>\n",
       "      <th>points_for</th>\n",
       "      <td>1.000000</td>\n",
       "      <td>0.752358</td>\n",
       "    </tr>\n",
       "    <tr>\n",
       "      <th>epa_per_play</th>\n",
       "      <td>0.752358</td>\n",
       "      <td>1.000000</td>\n",
       "    </tr>\n",
       "  </tbody>\n",
       "</table>\n",
       "</div>"
      ],
      "text/plain": [
       "              points_for  epa_per_play\n",
       "points_for      1.000000      0.752358\n",
       "epa_per_play    0.752358      1.000000"
      ]
     },
     "execution_count": 27,
     "metadata": {},
     "output_type": "execute_result"
    }
   ],
   "source": [
    "# Web scrape defensive EPA/play from https://sumersports.com/teams/defensive/"
   ]
  },
  {
   "cell_type": "code",
   "execution_count": null,
   "id": "33c33799",
   "metadata": {},
   "outputs": [],
   "source": [
    "# Create dataframe with rolling averages of relevant features"
   ]
  },
  {
   "cell_type": "code",
   "execution_count": 22,
   "id": "b94dbe86",
   "metadata": {},
   "outputs": [
    {
     "data": {
      "text/plain": [
       "Index(['game_id', 'season', 'game_type', 'week', 'gameday', 'weekday',\n",
       "       'gametime', 'away_team', 'away_score', 'home_team', 'home_score',\n",
       "       'location', 'result', 'total', 'overtime', 'old_game_id', 'gsis',\n",
       "       'nfl_detail_id', 'pfr', 'pff', 'espn', 'ftn', 'away_rest', 'home_rest',\n",
       "       'away_moneyline', 'home_moneyline', 'spread_line', 'away_spread_odds',\n",
       "       'home_spread_odds', 'total_line', 'under_odds', 'over_odds', 'div_game',\n",
       "       'roof', 'surface', 'temp', 'wind', 'away_qb_id', 'home_qb_id',\n",
       "       'away_qb_name', 'home_qb_name', 'away_coach', 'home_coach', 'referee',\n",
       "       'stadium_id', 'stadium'],\n",
       "      dtype='object')"
      ]
     },
     "execution_count": 22,
     "metadata": {},
     "output_type": "execute_result"
    }
   ],
   "source": [
    "schedule.columns"
   ]
  }
 ],
 "metadata": {
  "kernelspec": {
   "display_name": "Python (nflmodel)",
   "language": "python",
   "name": "nflmodel"
  },
  "language_info": {
   "codemirror_mode": {
    "name": "ipython",
    "version": 3
   },
   "file_extension": ".py",
   "mimetype": "text/x-python",
   "name": "python",
   "nbconvert_exporter": "python",
   "pygments_lexer": "ipython3",
   "version": "3.12.10"
  }
 },
 "nbformat": 4,
 "nbformat_minor": 5
}

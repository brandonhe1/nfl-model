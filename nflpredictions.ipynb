{
 "cells": [
  {
   "cell_type": "markdown",
   "id": "bf9e48e4",
   "metadata": {},
   "source": [
    "**Data Processing**"
   ]
  },
  {
   "cell_type": "code",
   "execution_count": 1,
   "id": "0307b025",
   "metadata": {},
   "outputs": [],
   "source": [
    "# Import libraries\n",
    "import pandas as pd\n",
    "import nflreadpy as nfl\n",
    "import nfl_data_py as nfl_data\n",
    "from sklearn.model_selection import train_test_split\n",
    "from sklearn.ensemble import RandomForestClassifier\n",
    "import matplotlib.pyplot as plt"
   ]
  },
  {
   "cell_type": "code",
   "execution_count": 2,
   "id": "e8c52f03",
   "metadata": {},
   "outputs": [],
   "source": [
    "# Load NFL data for 2025 season\n",
    "season = 2025\n",
    "schedule = nfl.load_schedules(seasons=[season])\n",
    "schedule = schedule.to_pandas()\n",
    "\n",
    "# Select only regular season games\n",
    "team_stats = nfl.load_team_stats(seasons=[season])\n",
    "team_stats = team_stats.to_pandas()"
   ]
  },
  {
   "cell_type": "code",
   "execution_count": 3,
   "id": "2660fe43",
   "metadata": {},
   "outputs": [],
   "source": [
    "# Add column for EPA per play\n",
    "team_stats[\"pass_plays\"] = team_stats[\"attempts\"] + team_stats[\"sacks_suffered\"]\n",
    "team_stats[\"rush_plays\"] = team_stats[\"carries\"]\n",
    "team_stats[\"total_plays\"] = team_stats[\"pass_plays\"] + team_stats[\"rush_plays\"]\n",
    "team_stats[\"off_epa_per_play\"] = (\n",
    "    (team_stats[\"passing_epa\"] * team_stats[\"pass_plays\"]) +\n",
    "    (team_stats[\"rushing_epa\"] * team_stats[\"rush_plays\"])\n",
    ") / team_stats[\"total_plays\"]"
   ]
  },
  {
   "cell_type": "code",
   "execution_count": 4,
   "id": "4f15814f",
   "metadata": {},
   "outputs": [],
   "source": [
    "# Add columns points for and against to team_stats\n",
    "home = schedule[[\"season\", \"week\", \"home_team\", \"away_team\", \"home_score\", \"away_score\"]].copy()\n",
    "home[\"team\"] = home[\"home_team\"]\n",
    "home[\"points_for\"] = home[\"home_score\"]\n",
    "home[\"points_against\"] = home[\"away_score\"]\n",
    "\n",
    "away = schedule[[\"season\", \"week\", \"home_team\", \"away_team\", \"home_score\", \"away_score\"]].copy()\n",
    "away[\"team\"] = away[\"away_team\"]\n",
    "away[\"points_for\"] = away[\"away_score\"]\n",
    "away[\"points_against\"] = away[\"home_score\"]\n",
    "\n",
    "schedule_long = pd.concat([home, away], ignore_index=True)\n",
    "\n",
    "# Merge into team_stats\n",
    "team_stats = team_stats.merge(\n",
    "    schedule_long[[\"season\", \"week\", \"team\", \"points_for\", \"points_against\"]],\n",
    "    on=[\"season\", \"week\", \"team\"],\n",
    "    how=\"left\"\n",
    ")"
   ]
  },
  {
   "cell_type": "code",
   "execution_count": 5,
   "id": "85cb15f7",
   "metadata": {},
   "outputs": [],
   "source": [
    "# Add column for turnover differential\n",
    "# Offensive giveaways\n",
    "team_stats[\"giveaways\"] = (\n",
    "    team_stats[\"passing_interceptions\"] + \n",
    "    team_stats[\"rushing_fumbles_lost\"] + \n",
    "    team_stats[\"receiving_fumbles_lost\"] + \n",
    "    team_stats[\"sack_fumbles_lost\"]\n",
    ")\n",
    "\n",
    "# Defensive takeaways\n",
    "team_stats[\"takeaways\"] = (\n",
    "    team_stats[\"def_interceptions\"] + \n",
    "    team_stats[\"fumble_recovery_opp\"]   # opp fumbles recovered by your team\n",
    ")\n",
    "\n",
    "# Turnover differential\n",
    "team_stats[\"turnover_diff\"] = team_stats[\"takeaways\"] - team_stats[\"giveaways\"]"
   ]
  },
  {
   "cell_type": "code",
   "execution_count": 6,
   "id": "a5601d91",
   "metadata": {},
   "outputs": [],
   "source": [
    "# Web scrape defensive EPA/play from https://sumersports.com/teams/defensive/\n",
    "import requests\n",
    "from bs4 import BeautifulSoup\n",
    "\n",
    "url = \"https://sumersports.com/teams/defensive/\"\n",
    "response = requests.get(url)\n",
    "soup = BeautifulSoup(response.text, 'html.parser')\n",
    "\n",
    "# Locate table\n",
    "table = soup.find('table')\n",
    "\n",
    "headers = [th.get_text(strip=True) for th in table.find_all('th')]\n",
    "\n",
    "# Extract rows\n",
    "rows = []\n",
    "for tr in table.find_all('tr')[1:]:  # Skip header row\n",
    "    cols = [td.get_text(strip=True) for td in tr.find_all('td')]\n",
    "    if cols:  # Check row is not empty\n",
    "        rows.append(cols)\n",
    "\n",
    "df = pd.DataFrame(rows, columns=headers)\n",
    "# Clean up team names (remove extra spaces)\n",
    "df['team'] = df['Team'].str.replace(r'^\\d+\\.\\s*', '', regex=True)\n",
    "df['EPA/Play'] = pd.to_numeric(df['EPA/Play'], errors='coerce')\n",
    "\n",
    "def_epa_df = df[['team', 'EPA/Play']].copy()\n"
   ]
  },
  {
   "cell_type": "code",
   "execution_count": 7,
   "id": "30af6c84",
   "metadata": {},
   "outputs": [],
   "source": [
    "# Web scrape 3rd down conversion % (offense and defense) from https://www.teamrankings.com/\n",
    "urls = {\n",
    "    'third_down': 'https://www.teamrankings.com/nfl/stat/third-down-conversion-pct',\n",
    "    'opponent_third_down': 'https://www.teamrankings.com/nfl/stat/opponent-third-down-conversion-pct'\n",
    "}\n",
    "\n",
    "# Function to scrape data from a given URL\n",
    "def scrape_data(url):\n",
    "    response = requests.get(url)\n",
    "    soup = BeautifulSoup(response.text, 'html.parser')\n",
    "\n",
    "    # Locate table\n",
    "    table = soup.find('table')\n",
    "\n",
    "    # Extract headers\n",
    "    headers = [th.get_text(strip=True) for th in table.find_all('th')]\n",
    "\n",
    "    # Extract rows\n",
    "    rows = []\n",
    "    for tr in table.find_all('tr')[1:]:  # Skip header\n",
    "        cols = [td.get_text(strip=True) for td in tr.find_all('td')]\n",
    "        if cols:  # Check row is not empty\n",
    "            rows.append(cols)\n",
    "\n",
    "    # Create a df\n",
    "    df = pd.DataFrame(rows, columns=headers)\n",
    "\n",
    "    # Clean up team names (remove extra spaces)\n",
    "    df['Team'] = df['Team'].str.strip()\n",
    "    df['2025'] = df['2025'].str.rstrip('%').astype(float) / 100.0  # Convert to decimal\n",
    "    return df[['Team', '2025']]\n",
    "\n",
    "# Scrape data\n",
    "third_down_df = scrape_data(urls['third_down'])\n",
    "opponent_third_down_df = scrape_data(urls['opponent_third_down'])\n",
    "\n",
    "# Merge on the 'Team' column\n",
    "merged_third_down_df = pd.merge(third_down_df, opponent_third_down_df, on='Team', suffixes=('_Offense', '_Defense'))\n"
   ]
  },
  {
   "cell_type": "code",
   "execution_count": 8,
   "id": "e1bfcc04",
   "metadata": {},
   "outputs": [],
   "source": [
    "# Add indicator column for winner\n",
    "schedule[\"home_win\"] = (schedule[\"home_score\"] > schedule[\"away_score\"]).astype(int)\n",
    "schedule = schedule[['season', 'week', 'home_team', 'away_team', 'home_score', 'away_score', 'home_win']]"
   ]
  },
  {
   "cell_type": "code",
   "execution_count": 9,
   "id": "33c33799",
   "metadata": {},
   "outputs": [],
   "source": [
    "# Create dataframe with cumulative averages of features\n",
    "def cumulative_avg(df, up_to_week):\n",
    "    stats_cols = [\"off_epa_per_play\", \"points_for\", \"points_against\", \"turnover_diff\"]\n",
    "\n",
    "    # filter games up to target week\n",
    "    df_filtered = df[df[\"week\"] <= up_to_week].copy()\n",
    "\n",
    "    # calculate cumulative average per team\n",
    "    cumu = (\n",
    "        df_filtered.groupby(\"team\")[stats_cols]\n",
    "        .mean()\n",
    "        .reset_index()\n",
    "    )\n",
    "\n",
    "    # rename columns\n",
    "    cumu = cumu.rename(columns={col: f\"{col}\" for col in stats_cols})\n",
    "\n",
    "    return cumu"
   ]
  },
  {
   "cell_type": "code",
   "execution_count": 11,
   "id": "51f5c054",
   "metadata": {},
   "outputs": [],
   "source": [
    "# Create cumulative avg dataframe for weeks 1-3\n",
    "cumulative_df = cumulative_avg(team_stats, up_to_week=3)"
   ]
  },
  {
   "cell_type": "code",
   "execution_count": 12,
   "id": "95a686ee",
   "metadata": {},
   "outputs": [],
   "source": [
    "# Convert all team names to abbreviations\n",
    "TEAM_ABBR = {\n",
    "    \"ARI\": [\"Arizona Cardinals\", \"Arizona\"],\n",
    "    \"ATL\": [\"Atlanta Falcons\", \"Atlanta\"],\n",
    "    \"BAL\": [\"Baltimore Ravens\", \"Baltimore\"],\n",
    "    \"BUF\": [\"Buffalo Bills\", \"Buffalo\"],\n",
    "    \"CAR\": [\"Carolina Panthers\", \"Carolina\"],\n",
    "    \"CHI\": [\"Chicago Bears\", \"Chicago\"],\n",
    "    \"CIN\": [\"Cincinnati Bengals\", \"Cincinnati\"],\n",
    "    \"CLE\": [\"Cleveland Browns\", \"Cleveland\"],\n",
    "    \"DAL\": [\"Dallas Cowboys\", \"Dallas\"],\n",
    "    \"DEN\": [\"Denver Broncos\", \"Denver\"],\n",
    "    \"DET\": [\"Detroit Lions\", \"Detroit\"],\n",
    "    \"GB\":  [\"Green Bay Packers\", \"Green Bay\"],\n",
    "    \"HOU\": [\"Houston Texans\", \"Houston\"],\n",
    "    \"IND\": [\"Indianapolis Colts\", \"Indianapolis\"],\n",
    "    \"JAX\": [\"Jacksonville Jaguars\", \"Jacksonville\"],\n",
    "    \"KC\":  [\"Kansas City Chiefs\", \"Kansas City\"],\n",
    "    \"LV\":  [\"Las Vegas Raiders\", \"Las Vegas\"],\n",
    "    \"LAC\": [\"Los Angeles Chargers\", \"LA Chargers\"],\n",
    "    \"LA\": [\"Los Angeles Rams\", \"LA Rams\"],\n",
    "    \"MIA\": [\"Miami Dolphins\", \"Miami\"],\n",
    "    \"MIN\": [\"Minnesota Vikings\", \"Minnesota\"],\n",
    "    \"NE\":  [\"New England Patriots\", \"New England\"],\n",
    "    \"NO\":  [\"New Orleans Saints\", \"New Orleans\"],\n",
    "    \"NYG\": [\"New York Giants\", \"NY Giants\"],\n",
    "    \"NYJ\": [\"New York Jets\", \"NY Jets\"],\n",
    "    \"PHI\": [\"Philadelphia Eagles\", \"Philadelphia\"],\n",
    "    \"PIT\": [\"Pittsburgh Steelers\", \"Pittsburgh\"],\n",
    "    \"SF\":  [\"San Francisco 49ers\", \"San Francisco\"],\n",
    "    \"SEA\": [\"Seattle Seahawks\", \"Seattle\"],\n",
    "    \"TB\":  [\"Tampa Bay Buccaneers\", \"Tampa Bay\"],\n",
    "    \"TEN\": [\"Tennessee Titans\", \"Tennessee\"],\n",
    "    \"WAS\": [\"Washington Commanders\", \"Washington\"],\n",
    "}\n",
    "\n",
    "# flatten into reverse lookup once\n",
    "NAME_TO_ABBR = {name: abbr for abbr, names in TEAM_ABBR.items() for name in names}\n",
    "\n",
    "# standardize team names in scraped dfs\n",
    "def_epa_df[\"team\"] = def_epa_df[\"team\"].map(NAME_TO_ABBR)\n",
    "merged_third_down_df[\"team\"] = merged_third_down_df[\"Team\"].map(NAME_TO_ABBR)\n",
    "merged_third_down_df.drop(columns=[\"Team\"], inplace=True)\n",
    "def_epa_df = def_epa_df.rename(columns={\"EPA/Play\": \"def_epa_per_play\"})\n",
    "merged_third_down_df = merged_third_down_df.rename(columns={\n",
    "    \"2025_Offense\": \"off_third_down_pct\",\n",
    "    \"2025_Defense\": \"def_third_down_pct\"\n",
    "})"
   ]
  },
  {
   "cell_type": "code",
   "execution_count": 13,
   "id": "13b11117",
   "metadata": {},
   "outputs": [],
   "source": [
    "# Merge all three DataFrames \n",
    "all_stats = cumulative_df.merge(def_epa_df, on='team', how=\"inner\").merge(merged_third_down_df, on=\"team\", how=\"inner\")"
   ]
  },
  {
   "cell_type": "code",
   "execution_count": 14,
   "id": "aebe2d6d",
   "metadata": {},
   "outputs": [],
   "source": [
    "# Create matchup features, merge with game schedule\n",
    "\n",
    "games = (\n",
    "    schedule\n",
    "    .merge(all_stats.add_suffix(\"_home\"), left_on=[\"home_team\"], right_on=\"team_home\")\n",
    "    .merge(all_stats.add_suffix(\"_away\"), left_on=[\"away_team\"], right_on=\"team_away\")\n",
    ")\n",
    "# Create difference features: home - away\n",
    "stats = [\"off_epa_per_play\", \"points_for\", \"points_against\", \"turnover_diff\", \"def_epa_per_play\", \"off_third_down_pct\", \"def_third_down_pct\"]\n",
    "for col in stats:\n",
    "    games[f'{col}_diff'] = games[f'{col}_home'] - games[f'{col}_away']\n",
    "\n",
    "games = games.drop(columns=[\"team_home\", \"team_away\"])"
   ]
  },
  {
   "cell_type": "code",
   "execution_count": 15,
   "id": "7ff5e071",
   "metadata": {},
   "outputs": [],
   "source": [
    "# Define features and labels\n",
    "features = [c for c in games.columns if c.endswith(\"_diff\")]\n",
    "X = games[features]\n",
    "y = games[\"home_win\"]"
   ]
  },
  {
   "cell_type": "code",
   "execution_count": 16,
   "id": "cf1d78e0",
   "metadata": {},
   "outputs": [],
   "source": [
    "# Train/test split\n",
    "\n",
    "current_week = nfl.get_current_week()\n",
    "train_df = games[games[\"week\"] < current_week]\n",
    "test_df = games[games[\"week\"] == current_week]\n",
    "\n",
    "X_train, y_train = train_df[features], train_df[\"home_win\"]\n",
    "X_test, y_test = test_df[features], test_df[\"home_win\"]"
   ]
  },
  {
   "cell_type": "markdown",
   "id": "05f99121",
   "metadata": {},
   "source": [
    "**Random Forest Classifier**"
   ]
  },
  {
   "cell_type": "code",
   "execution_count": 17,
   "id": "3b7368b2",
   "metadata": {},
   "outputs": [],
   "source": [
    "# Fit Random Forest model\n",
    "from sklearn.metrics import accuracy_score, classification_report, confusion_matrix \n",
    "\n",
    "# Train RFC\n",
    "rfc = RandomForestClassifier(\n",
    "    n_estimators=200, \n",
    "    max_depth=None, \n",
    "    random_state=42\n",
    ")\n",
    "rfc.fit(X_train, y_train)\n",
    "\n",
    "# Predict\n",
    "y_pred = rfc.predict(X_test)\n",
    "y_proba = rfc.predict_proba(X_test)[:,1]  # probability home team wins"
   ]
  },
  {
   "cell_type": "code",
   "execution_count": null,
   "id": "9d3f5e1f",
   "metadata": {},
   "outputs": [],
   "source": [
    "acc = accuracy_score(y_test, y_pred)\n",
    "\n",
    "print(f\"Week {current_week} Test Accuracy: {acc:.3f}\")"
   ]
  },
  {
   "cell_type": "code",
   "execution_count": null,
   "id": "51b99439",
   "metadata": {},
   "outputs": [],
   "source": [
    "test_df[\"RFC_pred_home_win\"] = y_pred\n",
    "test_df[\"RFC_pred_home_win_prob\"] = y_proba\n",
    "\n",
    "import os\n",
    "# Export to CSV\n",
    "results_df = test_df[[\n",
    "    \"week\", \"home_team\", \"away_team\", \"home_win\", \"RFC_pred_home_win\", \"RFC_pred_home_win_prob\"\n",
    "]]\n",
    "\n",
    "csv_path_games = \"game_predictions.csv\"\n",
    "\n",
    "if not os.path.exists(csv_path_games):\n",
    "    # Create new file\n",
    "    results_df.to_csv(csv_path_games, index=False)\n",
    "else:\n",
    "    # Append without header\n",
    "    results_df.to_csv(csv_path_games, mode=\"a\", header=False, index=False)"
   ]
  },
  {
   "cell_type": "markdown",
   "id": "d577ca00",
   "metadata": {},
   "source": [
    "**XGBoost Classifier**"
   ]
  },
  {
   "cell_type": "code",
   "execution_count": null,
   "id": "a1c4e76d",
   "metadata": {},
   "outputs": [],
   "source": [
    "import xgboost as xgb\n",
    "\n",
    "model = xgb.XGBClassifier(\n",
    "    n_estimators=200,\n",
    "    max_depth=4,\n",
    "    learning_rate=0.1,\n",
    "    eval_metric='logloss'  # avoids warnings in latest XGBoost\n",
    ")\n",
    "\n",
    "# Train\n",
    "model.fit(X_train, y_train)\n",
    "\n",
    "# Predict\n",
    "y_pred_xg = model.predict(X_test)\n",
    "probs_xg = model.predict_proba(X_test)[:,1]\n",
    "\n",
    "test_df[\"XGB_pred_home_win\"] = y_pred_xg\n",
    "test_df[\"XGB_pred_home_win_prob\"] = probs_xg\n",
    "\n",
    "# Accuracy\n",
    "xgb_acc= accuracy_score(y_test, y_pred_xg)\n",
    "print(f\"Week {current_week} Test Accuracy: {xgb_acc:.3f}\")"
   ]
  },
  {
   "cell_type": "markdown",
   "id": "650aded5",
   "metadata": {},
   "source": [
    "**Exporting Results**"
   ]
  },
  {
   "cell_type": "code",
   "execution_count": 22,
   "id": "335f1e07",
   "metadata": {},
   "outputs": [],
   "source": [
    "# Export weekly accuracy to CSV\n",
    "new_row = pd.DataFrame([{\n",
    "    \"week\": current_week,\n",
    "    \"rfc_acc\": acc,\n",
    "    \"xgb_acc\": xgb_acc\n",
    "}])\n",
    "\n",
    "# Append to CSV\n",
    "csv_path = \"weekly_model_accuracy.csv\"\n",
    "\n",
    "if not os.path.exists(csv_path):\n",
    "    # Create new file with header\n",
    "    new_row.to_csv(csv_path, index=False)\n",
    "else:\n",
    "    # Append without writing header again\n",
    "    new_row.to_csv(csv_path, mode=\"a\", header=False, index=False)"
   ]
  },
  {
   "cell_type": "code",
   "execution_count": 29,
   "id": "316411b6",
   "metadata": {},
   "outputs": [],
   "source": [
    "# Export game-by-game predictions to CSV\n",
    "results_df = test_df[[\n",
    "    \"week\", \"home_team\", \"away_team\", \"home_win\",\n",
    "    \"RFC_pred_home_win\", \"RFC_pred_home_win_prob\",\n",
    "    \"XGB_pred_home_win\", \"XGB_pred_home_win_prob\"\n",
    "]]\n",
    "csv_path_games = \"game_predictions.csv\"\n",
    "\n",
    "# Append or create file\n",
    "if not os.path.exists(csv_path_games):\n",
    "    results_df.to_csv(csv_path_games, index=False)\n",
    "else:\n",
    "    results_df.to_csv(csv_path_games, mode=\"a\", header=False, index=False)"
   ]
  }
 ],
 "metadata": {
  "kernelspec": {
   "display_name": "Python (nflmodel)",
   "language": "python",
   "name": "nflmodel"
  },
  "language_info": {
   "codemirror_mode": {
    "name": "ipython",
    "version": 3
   },
   "file_extension": ".py",
   "mimetype": "text/x-python",
   "name": "python",
   "nbconvert_exporter": "python",
   "pygments_lexer": "ipython3",
   "version": "3.12.10"
  }
 },
 "nbformat": 4,
 "nbformat_minor": 5
}
